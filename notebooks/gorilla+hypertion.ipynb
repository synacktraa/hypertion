{
 "cells": [
  {
   "cell_type": "code",
   "execution_count": null,
   "metadata": {},
   "outputs": [],
   "source": [
    "# Install and import necessary libraries\n",
    "%pip install -qU sentencepiece accelerate bitsandbytes pydantic hypertion\n",
    "\n",
    "import json\n",
    "import torch\n",
    "from hypertion import HyperFunction\n",
    "from transformers import (\n",
    "    AutoTokenizer, AutoModelForCausalLM, BitsAndBytesConfig, pipeline\n",
    ")"
   ]
  },
  {
   "cell_type": "markdown",
   "metadata": {},
   "source": [
    "### Create a `HyperFunction` instance"
   ]
  },
  {
   "cell_type": "code",
   "execution_count": 4,
   "metadata": {},
   "outputs": [],
   "source": [
    "hyperfunction = HyperFunction()"
   ]
  },
  {
   "cell_type": "markdown",
   "metadata": {},
   "source": [
    "### Define function and register it using `.takeover` method"
   ]
  },
  {
   "cell_type": "code",
   "execution_count": 1,
   "metadata": {},
   "outputs": [],
   "source": [
    "import pathlib\n",
    "from enum import Enum\n",
    "from typing import Literal, NamedTuple\n",
    "from typing_extensions import TypedDict\n",
    "from pydantic import BaseModel, Field\n",
    "\n",
    "\n",
    "class ServerType(str, Enum):\n",
    "    TESTING = \"testing\"\n",
    "    DEVELOPMENT = \"development\"\n",
    "    PRODUCTION = \"production\"\n",
    "\n",
    "class ServerConfig(BaseModel):\n",
    "    host: str = Field(default=\"http://localhost\", description=\"The host url of the server.\")\n",
    "    port: int = Field(..., description=\"The port of the server.\")\n",
    "    use_ssl: bool = False\n",
    "\n",
    "class LoggingConfig(TypedDict):\n",
    "    \"\"\"\n",
    "    Logging Configuration\n",
    "    :param level: Level of the logging.\n",
    "    :param format: Logging format.\n",
    "    \"\"\"\n",
    "    level: Literal['debug', 'info', 'warning', 'error', 'critical'] = 'info'\n",
    "    format: str\n",
    "\n",
    "class User(NamedTuple):\n",
    "    \"\"\"\n",
    "    User Info\n",
    "    :param name: Name of the user.\n",
    "    :param role: Role of the user.\n",
    "    \"\"\"\n",
    "    name: str\n",
    "    role: Literal['admin', 'developer', 'tester'] = 'developer'\n",
    "\n",
    "@hyperfunction.takeover\n",
    "def setup_server(\n",
    "    name: str,\n",
    "    server_type: ServerType,\n",
    "    server_config: ServerConfig,\n",
    "    log_config: LoggingConfig,\n",
    "    users: list[User],\n",
    "    persist_at: pathlib.Path,\n",
    ") -> None:\n",
    "    \"\"\"\n",
    "    Setup server with the given configuration.\n",
    "\n",
    "    @param name: The name of the server.\n",
    "    @param server_type: The type of the server.\n",
    "    @param server_config: Configuration for the server.\n",
    "    @param log_config: Logging configuration.\n",
    "    @param users: List of users with their respective roles.\n",
    "    @param persist_at: Path to persist server log.\n",
    "    \"\"\"\n",
    "    print(f\"Setting up server '{name}' of type '{server_type}'...\")\n",
    "    print(f\"Server Configuration: {server_config}\")\n",
    "    print(f\"Logging Configuration: {log_config}\")\n",
    "    print(f\"Users: {users}\")\n",
    "    print(f\"Persist location: {persist_at}\")"
   ]
  },
  {
   "cell_type": "markdown",
   "metadata": {},
   "source": [
    "### Display registered functions"
   ]
  },
  {
   "cell_type": "code",
   "execution_count": 2,
   "metadata": {},
   "outputs": [
    {
     "name": "stdout",
     "output_type": "stream",
     "text": [
      "============================================================\n",
      "setup_server(\n",
      "   name: str,\n",
      "   server_type: ServerType,\n",
      "   server_config: ServerConfig,\n",
      "   log_config: LoggingConfig,\n",
      "   users: list[User],\n",
      "   persist_at: Path\n",
      ") -> None:\n",
      "\"\"\"Setup server with the given configuration.\"\"\"\n",
      "============================================================\n"
     ]
    }
   ],
   "source": [
    "hyperfunction.registry()"
   ]
  },
  {
   "cell_type": "markdown",
   "metadata": {},
   "source": [
    "### Build function schema with specified LLM format"
   ]
  },
  {
   "cell_type": "code",
   "execution_count": 3,
   "metadata": {},
   "outputs": [
    {
     "name": "stdout",
     "output_type": "stream",
     "text": [
      "[\n",
      "    {\n",
      "        \"api_call\": \"setup_server\",\n",
      "        \"name\": \"setup_server\",\n",
      "        \"description\": \"Setup server with the given configuration.\",\n",
      "        \"parameters\": {\n",
      "            \"type\": \"object\",\n",
      "            \"properties\": {\n",
      "                \"name\": {\n",
      "                    \"type\": \"string\",\n",
      "                    \"description\": \"The name of the server.\"\n",
      "                },\n",
      "                \"server_type\": {\n",
      "                    \"type\": \"string\",\n",
      "                    \"enum\": [\n",
      "                        \"TESTING\",\n",
      "                        \"DEVELOPMENT\",\n",
      "                        \"PRODUCTION\"\n",
      "                    ],\n",
      "                    \"description\": \"The type of the server.\"\n",
      "                },\n",
      "                \"server_config\": {\n",
      "                    \"type\": \"object\",\n",
      "                    \"properties\": {\n",
      "                        \"host\": {\n",
      "                            \"type\": \"string\",\n",
      "                            \"description\": \"The host url of the server.\"\n",
      "                        },\n",
      "                        \"port\": {\n",
      "                            \"type\": \"integer\",\n",
      "                            \"description\": \"The port of the server.\"\n",
      "                        },\n",
      "                        \"use_ssl\": {\n",
      "                            \"type\": \"boolean\"\n",
      "                        }\n",
      "                    },\n",
      "                    \"required\": [\n",
      "                        \"port\"\n",
      "                    ],\n",
      "                    \"description\": \"Configuration for the server.\"\n",
      "                },\n",
      "                \"log_config\": {\n",
      "                    \"type\": \"object\",\n",
      "                    \"properties\": {\n",
      "                        \"level\": {\n",
      "                            \"type\": \"string\",\n",
      "                            \"enum\": [\n",
      "                                \"debug\",\n",
      "                                \"info\",\n",
      "                                \"warning\",\n",
      "                                \"error\",\n",
      "                                \"critical\"\n",
      "                            ],\n",
      "                            \"description\": \"Level of the logging.\"\n",
      "                        },\n",
      "                        \"format\": {\n",
      "                            \"type\": \"string\",\n",
      "                            \"description\": \"Logging format.\"\n",
      "                        }\n",
      "                    },\n",
      "                    \"required\": [\n",
      "                        \"format\"\n",
      "                    ],\n",
      "                    \"description\": \"Logging configuration.\"\n",
      "                },\n",
      "                \"users\": {\n",
      "                    \"type\": \"array\",\n",
      "                    \"items\": {\n",
      "                        \"type\": \"object\",\n",
      "                        \"properties\": {\n",
      "                            \"name\": {\n",
      "                                \"type\": \"string\",\n",
      "                                \"description\": \"Name of the user.\"\n",
      "                            },\n",
      "                            \"role\": {\n",
      "                                \"type\": \"string\",\n",
      "                                \"enum\": [\n",
      "                                    \"admin\",\n",
      "                                    \"developer\",\n",
      "                                    \"tester\"\n",
      "                                ],\n",
      "                                \"description\": \"Role of the user.\"\n",
      "                            }\n",
      "                        },\n",
      "                        \"required\": [\n",
      "                            \"name\",\n",
      "                            \"role\"\n",
      "                        ]\n",
      "                    },\n",
      "                    \"description\": \"List of users with their respective roles.\"\n",
      "                },\n",
      "                \"persist_at\": {\n",
      "                    \"type\": \"string\",\n",
      "                    \"description\": \"Path to persist server log.\"\n",
      "                }\n",
      "            },\n",
      "            \"required\": [\n",
      "                \"name\",\n",
      "                \"server_type\",\n",
      "                \"server_config\",\n",
      "                \"log_config\",\n",
      "                \"users\",\n",
      "                \"persist_at\"\n",
      "            ]\n",
      "        }\n",
      "    }\n",
      "]\n"
     ]
    }
   ],
   "source": [
    "print(hyperfunction.format('gorilla', as_json=True))"
   ]
  },
  {
   "cell_type": "markdown",
   "metadata": {},
   "source": [
    "### Setup pipeline"
   ]
  },
  {
   "cell_type": "code",
   "execution_count": null,
   "metadata": {},
   "outputs": [],
   "source": [
    "torch_dtype = torch.float16 if torch.cuda.is_available() else torch.float32\n",
    "\n",
    "# Quantization Setup\n",
    "# This configuration compresses the model and makes it possible to use with Colab's GPU\n",
    "bnb_config = BitsAndBytesConfig(\n",
    "    load_in_4bit=True,\n",
    "    bnb_4bit_use_double_quant=True,\n",
    "    bnb_4bit_quant_type=\"nf4\",\n",
    "    bnb_4bit_compute_dtype=torch_dtype\n",
    ")\n",
    "\n",
    "# Model and tokenizer setup\n",
    "model_id : str = \"gorilla-llm/gorilla-openfunctions-v2\"\n",
    "tokenizer = AutoTokenizer.from_pretrained(model_id)\n",
    "model = AutoModelForCausalLM.from_pretrained(\n",
    "    model_id,\n",
    "    torch_dtype=torch_dtype,\n",
    "    quantization_config=bnb_config,\n",
    "    low_cpu_mem_usage=True,\n",
    "    device_map=\"auto\"\n",
    ")\n",
    "\n",
    "# Create pipeline\n",
    "pipe = pipeline(\n",
    "    \"text-generation\",\n",
    "    model=model,\n",
    "    tokenizer=tokenizer,\n",
    "    max_new_tokens=128,\n",
    "    batch_size=16,\n",
    "    torch_dtype=torch_dtype,\n",
    ")\n",
    "\n",
    "# This function will return Gorilla's response\n",
    "def get_gorilla_signature(query: str, functions: list[dict]) -> str:\n",
    "    output = pipe(\n",
    "        f\"USER: <<question>> {query} <<function>> {json.dumps(functions)}\\nASSISTANT: \"\n",
    "    )[0]['generated_text'].splitlines()[-1]\n",
    "    return output[output.index(\":\")+1:].strip().strip('<<function>>')"
   ]
  },
  {
   "cell_type": "markdown",
   "metadata": {},
   "source": [
    "### Invoke `Gorilla` and get the function signature"
   ]
  },
  {
   "cell_type": "code",
   "execution_count": null,
   "metadata": {},
   "outputs": [],
   "source": [
    "QUERY = \"\"\"\\\n",
    "Setup a server of type development on port number 8001 with ssl enabled.\n",
    "Logging format should be \"%(asctime)s - %(name)s - %(levelname)s - %(message)s\".\n",
    "Add user synacktra with developer role and 1littlecoder with tester role.\n",
    "The server logs should be persisted at /var/logs.\\\n",
    "\"\"\"\n",
    "signature = get_gorilla_signature(query=QUERY, functions=hyperfunction.format('gorilla'))\n",
    "print(signature)"
   ]
  },
  {
   "cell_type": "markdown",
   "metadata": {},
   "source": [
    "### Compose the signature as Function-Call object"
   ]
  },
  {
   "cell_type": "code",
   "execution_count": null,
   "metadata": {},
   "outputs": [],
   "source": [
    "function_call = hyperfunction.compose(signature)\n",
    "print(function_call)"
   ]
  },
  {
   "cell_type": "markdown",
   "metadata": {},
   "source": [
    "### Invoke the function"
   ]
  },
  {
   "cell_type": "code",
   "execution_count": null,
   "metadata": {},
   "outputs": [],
   "source": [
    "function_call()"
   ]
  }
 ],
 "metadata": {
  "kernelspec": {
   "display_name": "Python 3",
   "language": "python",
   "name": "python3"
  },
  "language_info": {
   "codemirror_mode": {
    "name": "ipython",
    "version": 3
   },
   "file_extension": ".py",
   "mimetype": "text/x-python",
   "name": "python",
   "nbconvert_exporter": "python",
   "pygments_lexer": "ipython3",
   "version": "3.10.11"
  }
 },
 "nbformat": 4,
 "nbformat_minor": 2
}

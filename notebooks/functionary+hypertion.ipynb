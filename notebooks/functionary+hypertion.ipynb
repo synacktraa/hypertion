{
 "cells": [
  {
   "cell_type": "code",
   "execution_count": 1,
   "metadata": {},
   "outputs": [],
   "source": [
    "# Install and import necessary libraries\n",
    "%pip install llama-cpp-python transformers sentencepiece protobuf pydantic hypertion\n",
    "\n",
    "from hypertion import HyperFunction\n",
    "from llama_cpp import Llama\n",
    "from llama_cpp.llama_tokenizer import LlamaHFTokenizer"
   ]
  },
  {
   "cell_type": "markdown",
   "metadata": {},
   "source": [
    "### Create a `HyperFunction` instance"
   ]
  },
  {
   "cell_type": "code",
   "execution_count": 2,
   "metadata": {},
   "outputs": [],
   "source": [
    "hyperfunction = HyperFunction()"
   ]
  },
  {
   "cell_type": "markdown",
   "metadata": {},
   "source": [
    "### Define function and register it using `.takeover` method"
   ]
  },
  {
   "cell_type": "code",
   "execution_count": 9,
   "metadata": {},
   "outputs": [],
   "source": [
    "import pathlib\n",
    "from enum import Enum\n",
    "from typing import Literal, NamedTuple\n",
    "from typing_extensions import TypedDict\n",
    "from pydantic import BaseModel, Field\n",
    "\n",
    "\n",
    "class ServerType(str, Enum):\n",
    "    TESTING = \"testing\"\n",
    "    DEVELOPMENT = \"development\"\n",
    "    PRODUCTION = \"production\"\n",
    "\n",
    "class ServerConfig(BaseModel):\n",
    "    host: str = Field(default=\"http://localhost\", description=\"The host url of the server.\")\n",
    "    port: int = Field(..., description=\"The port of the server.\")\n",
    "    use_ssl: bool = False\n",
    "\n",
    "class LoggingConfig(TypedDict):\n",
    "    \"\"\"\n",
    "    Logging Configuration\n",
    "    :param level: Level of the logging.\n",
    "    :param format: Logging format.\n",
    "    \"\"\"\n",
    "    level: Literal['debug', 'info', 'warning', 'error', 'critical'] = 'info'\n",
    "    format: str\n",
    "\n",
    "class User(NamedTuple):\n",
    "    \"\"\"\n",
    "    User Info\n",
    "    :param name: Name of the user.\n",
    "    :param role: Role of the user.\n",
    "    \"\"\"\n",
    "    name: str\n",
    "    role: Literal['admin', 'developer', 'tester'] = 'developer'\n",
    "\n",
    "@hyperfunction.takeover\n",
    "def setup_server(\n",
    "    name: str,\n",
    "    server_type: ServerType,\n",
    "    server_config: ServerConfig,\n",
    "    log_config: LoggingConfig,\n",
    "    users: list[User],\n",
    "    persist_at: pathlib.Path,\n",
    ") -> None:\n",
    "    \"\"\"\n",
    "    Setup server with the given configuration.\n",
    "\n",
    "    @param name: The name of the server.\n",
    "    @param server_type: The type of the server.\n",
    "    @param server_config: Configuration for the server.\n",
    "    @param log_config: Logging configuration.\n",
    "    @param users: List of users with their respective roles.\n",
    "    @param persist_at: Path to persist server log.\n",
    "    \"\"\"\n",
    "    print(f\"Setting up server '{name}' of type '{server_type}'...\")\n",
    "    print(f\"Server Configuration: {server_config}\")\n",
    "    print(f\"Logging Configuration: {log_config}\")\n",
    "    print(f\"Users: {users}\")\n",
    "    print(f\"Persist location: {persist_at}\")"
   ]
  },
  {
   "cell_type": "markdown",
   "metadata": {},
   "source": [
    "### Display registered functions"
   ]
  },
  {
   "cell_type": "code",
   "execution_count": 10,
   "metadata": {},
   "outputs": [
    {
     "name": "stdout",
     "output_type": "stream",
     "text": [
      "============================================================\n",
      "setup_server(\n",
      "   name: str,\n",
      "   server_type: ServerType,\n",
      "   server_config: ServerConfig,\n",
      "   log_config: LoggingConfig,\n",
      "   users: list[User],\n",
      "   persist_at: Path\n",
      ") -> None:\n",
      "\"\"\"Setup server with the given configuration.\"\"\"\n",
      "============================================================\n"
     ]
    }
   ],
   "source": [
    "hyperfunction.registry()"
   ]
  },
  {
   "cell_type": "markdown",
   "metadata": {},
   "source": [
    "### Build function schema with specified LLM format"
   ]
  },
  {
   "cell_type": "code",
   "execution_count": 11,
   "metadata": {},
   "outputs": [
    {
     "name": "stdout",
     "output_type": "stream",
     "text": [
      "[\n",
      "    {\n",
      "        \"type\": \"function\",\n",
      "        \"function\": {\n",
      "            \"name\": \"setup_server\",\n",
      "            \"description\": \"Setup server with the given configuration.\",\n",
      "            \"parameters\": {\n",
      "                \"type\": \"object\",\n",
      "                \"properties\": {\n",
      "                    \"name\": {\n",
      "                        \"type\": \"string\",\n",
      "                        \"description\": \"The name of the server.\"\n",
      "                    },\n",
      "                    \"server_type\": {\n",
      "                        \"type\": \"string\",\n",
      "                        \"enum\": [\n",
      "                            \"TESTING\",\n",
      "                            \"DEVELOPMENT\",\n",
      "                            \"PRODUCTION\"\n",
      "                        ],\n",
      "                        \"description\": \"The type of the server.\"\n",
      "                    },\n",
      "                    \"server_config\": {\n",
      "                        \"type\": \"object\",\n",
      "                        \"properties\": {\n",
      "                            \"host\": {\n",
      "                                \"type\": \"string\",\n",
      "                                \"description\": \"The host url of the server.\"\n",
      "                            },\n",
      "                            \"port\": {\n",
      "                                \"type\": \"integer\",\n",
      "                                \"description\": \"The port of the server.\"\n",
      "                            },\n",
      "                            \"use_ssl\": {\n",
      "                                \"type\": \"boolean\"\n",
      "                            }\n",
      "                        },\n",
      "                        \"required\": [\n",
      "                            \"port\"\n",
      "                        ],\n",
      "                        \"description\": \"Configuration for the server.\"\n",
      "                    },\n",
      "                    \"log_config\": {\n",
      "                        \"type\": \"object\",\n",
      "                        \"properties\": {\n",
      "                            \"level\": {\n",
      "                                \"type\": \"string\",\n",
      "                                \"enum\": [\n",
      "                                    \"debug\",\n",
      "                                    \"info\",\n",
      "                                    \"warning\",\n",
      "                                    \"error\",\n",
      "                                    \"critical\"\n",
      "                                ],\n",
      "                                \"description\": \"Level of the logging.\"\n",
      "                            },\n",
      "                            \"format\": {\n",
      "                                \"type\": \"string\",\n",
      "                                \"description\": \"Logging format.\"\n",
      "                            }\n",
      "                        },\n",
      "                        \"required\": [\n",
      "                            \"format\"\n",
      "                        ],\n",
      "                        \"description\": \"Logging configuration.\"\n",
      "                    },\n",
      "                    \"users\": {\n",
      "                        \"type\": \"array\",\n",
      "                        \"items\": {\n",
      "                            \"type\": \"object\",\n",
      "                            \"properties\": {\n",
      "                                \"name\": {\n",
      "                                    \"type\": \"string\",\n",
      "                                    \"description\": \"Name of the user.\"\n",
      "                                },\n",
      "                                \"role\": {\n",
      "                                    \"type\": \"string\",\n",
      "                                    \"enum\": [\n",
      "                                        \"admin\",\n",
      "                                        \"developer\",\n",
      "                                        \"tester\"\n",
      "                                    ],\n",
      "                                    \"description\": \"Role of the user.\"\n",
      "                                }\n",
      "                            },\n",
      "                            \"required\": [\n",
      "                                \"name\",\n",
      "                                \"role\"\n",
      "                            ]\n",
      "                        },\n",
      "                        \"description\": \"List of users with their respective roles.\"\n",
      "                    },\n",
      "                    \"persist_at\": {\n",
      "                        \"type\": \"string\",\n",
      "                        \"description\": \"Path to persist server log.\"\n",
      "                    }\n",
      "                },\n",
      "                \"required\": [\n",
      "                    \"name\",\n",
      "                    \"server_type\",\n",
      "                    \"server_config\",\n",
      "                    \"log_config\",\n",
      "                    \"users\",\n",
      "                    \"persist_at\"\n",
      "                ]\n",
      "            }\n",
      "        }\n",
      "    }\n",
      "]\n"
     ]
    }
   ],
   "source": [
    "print(hyperfunction.format('functionary', as_json=True))"
   ]
  },
  {
   "cell_type": "markdown",
   "metadata": {},
   "source": [
    "### Setup LLM"
   ]
  },
  {
   "cell_type": "code",
   "execution_count": 4,
   "metadata": {},
   "outputs": [
    {
     "name": "stderr",
     "output_type": "stream",
     "text": [
      "You set `add_prefix_space`. The tokenizer needs to be converted from the slow tokenizers\n",
      "Special tokens have been added in the vocabulary, make sure the associated word embeddings are fine-tuned or trained.\n"
     ]
    }
   ],
   "source": [
    "llm = Llama.from_pretrained(\n",
    "    repo_id=\"meetkai/functionary-small-v2.4-GGUF\",\n",
    "    filename=\"functionary-small-v2.4.Q4_0.gguf\",\n",
    "    chat_format=\"functionary-v2\",\n",
    "    tokenizer=LlamaHFTokenizer.from_pretrained(\"meetkai/functionary-small-v2.4-GGUF\"),\n",
    "    n_gpu_layers=-1,\n",
    "    n_ctx=4096,\n",
    "    verbose=False\n",
    ")\n",
    "\n",
    "def get_functionary_metadata(query: str, functions: list[dict]):\n",
    "    result = llm.create_chat_completion(\n",
    "        messages = [{'role': 'user', 'content': query}],\n",
    "        tools=functions,\n",
    "        tool_choice=\"auto\",\n",
    "    )\n",
    "\n",
    "    f = result[\"choices\"][0][\"message\"]['tool_calls'][0]['function']\n",
    "    return f['name'], f['arguments']"
   ]
  },
  {
   "cell_type": "markdown",
   "metadata": {},
   "source": [
    "### Invoke `Functionary` and get the function metadata"
   ]
  },
  {
   "cell_type": "code",
   "execution_count": 17,
   "metadata": {},
   "outputs": [
    {
     "name": "stderr",
     "output_type": "stream",
     "text": [
      "c:\\Users\\synac\\AppData\\Local\\Programs\\Python\\Python310\\lib\\site-packages\\llama_cpp\\llama.py:1054: RuntimeWarning: Detected duplicate leading \"<s>\" in prompt, this will likely reduce response quality, consider removing it...\n",
      "  warnings.warn(\n"
     ]
    },
    {
     "name": "stdout",
     "output_type": "stream",
     "text": [
      "Name: setup_server\n",
      "Raw arguments: {\"name\": \"development-server\", \"server_type\": \"DEVELOPMENT\", \"server_config\": {\"port\": 8001, \"use_ssl\": true}, \"log_config\": {\"format\": \"%(asctime)s - %(name)s - %(levelname)s - %(message)s\"}, \"users\": [{\"name\": \"synacktra\", \"role\": \"developer\"}, {\"name\": \"1littlecoder\", \"role\": \"tester\"}], \"persist_at\": \"/var/logs\"}\n"
     ]
    }
   ],
   "source": [
    "QUERY = \"\"\"\\\n",
    "Setup a server of type development on port number 8001 with ssl enabled.\n",
    "Logging format should be \"%(asctime)s - %(name)s - %(levelname)s - %(message)s\".\n",
    "Add user synacktra with developer role and 1littlecoder with tester role.\n",
    "The server logs should be persisted at /var/logs.\\\n",
    "\"\"\"\n",
    "name, arguments = get_functionary_metadata(query=QUERY, functions=hyperfunction.format('functionary'))\n",
    "print(f\"Name: {name}\\nRaw arguments: {arguments}\")"
   ]
  },
  {
   "cell_type": "markdown",
   "metadata": {},
   "source": [
    "### Compose the metadata as Function-Call object"
   ]
  },
  {
   "cell_type": "code",
   "execution_count": 18,
   "metadata": {},
   "outputs": [
    {
     "name": "stdout",
     "output_type": "stream",
     "text": [
      "setup_server(\n",
      "   name='development-server',\n",
      "   server_type=<ServerType.DEVELOPMENT: 'development'>,\n",
      "   server_config=ServerConfig(host='http://localhost', port=8001, use_ssl=True),\n",
      "   log_config={'level': 'info', 'format': '%(asctime)s - %(name)s - %(levelname)s - %(message)s'},\n",
      "   users=[('synacktra', 'developer'), ('1littlecoder', 'tester')],\n",
      "   persist_at=WindowsPath('/var/logs')\n",
      ")\n"
     ]
    }
   ],
   "source": [
    "function_call = hyperfunction.compose(name=name, arguments=arguments)\n",
    "print(function_call)"
   ]
  },
  {
   "cell_type": "markdown",
   "metadata": {},
   "source": [
    "### Invoke the function"
   ]
  },
  {
   "cell_type": "code",
   "execution_count": 19,
   "metadata": {},
   "outputs": [
    {
     "name": "stdout",
     "output_type": "stream",
     "text": [
      "Setting up server 'development-server' of type 'development'...\n",
      "Server Configuration: host='http://localhost' port=8001 use_ssl=True\n",
      "Logging Configuration: {'level': 'info', 'format': '%(asctime)s - %(name)s - %(levelname)s - %(message)s'}\n",
      "Users: [('synacktra', 'developer'), ('1littlecoder', 'tester')]\n",
      "Persist location: \\var\\logs\n"
     ]
    }
   ],
   "source": [
    "function_call()"
   ]
  }
 ],
 "metadata": {
  "kernelspec": {
   "display_name": "Python 3",
   "language": "python",
   "name": "python3"
  },
  "language_info": {
   "codemirror_mode": {
    "name": "ipython",
    "version": 3
   },
   "file_extension": ".py",
   "mimetype": "text/x-python",
   "name": "python",
   "nbconvert_exporter": "python",
   "pygments_lexer": "ipython3",
   "version": "3.10.11"
  }
 },
 "nbformat": 4,
 "nbformat_minor": 2
}

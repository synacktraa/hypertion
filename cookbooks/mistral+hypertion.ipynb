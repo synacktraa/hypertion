{
  "cells": [
    {
      "cell_type": "markdown",
      "metadata": {
        "id": "K0UABd9dVq3x"
      },
      "source": [
        "<center>\n",
        "  <p style=\"text-align:center\">\n",
        "    <img\n",
        "      alt=\"hypertion logo\"\n",
        "      height=\"120\"\n",
        "      src=\"https://raw.githubusercontent.com/synacktraa/hypertion/master/assets/main.gif\"\n",
        "    >\n",
        "    <br>\n",
        "    <a href=\"https://github.com/synacktraa/hypertion\">Github</a>\n",
        "    |\n",
        "    <a href=\"https://pypi.org/project/hypertion\">PyPI</a>\n",
        "    |\n",
        "    <a href=\"https://colab.research.google.com/drive/1y0hf-8leMnk0fnTPY9FWnCgu3ePJqx0G?usp=sharing\">Colab</a>\n",
        "  </p>\n",
        "</center>\n",
        "<h1 align=\"center\">Automating Function Calling Workflow</h1>\n",
        "\n",
        "In this tutorial, you will:\n",
        "\n",
        "- Use Hypertion to register functions and automate creation of Mistral specific function-calling schema.\n",
        "- Utilize Mistral's [function calling feature](https://docs.mistral.ai/guides/function-calling/) to obtain function-call metadata(function name and raw arguments).\n",
        "- Compose a function-call object from Mistral's metadata.\n",
        "\n",
        "## Background\n",
        "\n",
        "One powerful feature of the Mistral AI chat completions API is tool calling, wherein a user describes the signature and arguments of one or more tools to the Mistral AI API via a JSON Schema and natural language descriptions, and the LLM decides when to use each tool and provides argument values depending on the context of the conversation.\n",
        "\n",
        "Creating JSON schema from functions and invoking those functions from LLM's output manually can be time-consuming and potentially complex, depending on the function parameters. Hypertion takes responsibility of preparing inputs for the LLM, validating outputs from the LLMs' output and finally constructing a function-call object which can be inspected or invoked.\n",
        "\n",
        "Supported parameter types: `str` | `int` | `float` | `bool` | `list` | `dict` | `pathlib.Path` | `typing.List` | `typing.Dict` | `typing.NamedTuple` | `typing_extensions.TypedDict` | `pydantic.BaseModel` | `typing.Literal` | `enum.Enum`\n",
        "\n",
        "Let's get started!\n",
        "\n",
        "ℹ️ This notebook requires a Mistral AI API key.\n"
      ]
    },
    {
      "cell_type": "markdown",
      "metadata": {
        "id": "HmH6Ge3nVq31"
      },
      "source": [
        "## 1. Setup\n",
        "\n",
        "Install dependencies."
      ]
    },
    {
      "cell_type": "code",
      "execution_count": 1,
      "metadata": {
        "colab": {
          "base_uri": "https://localhost:8080/"
        },
        "id": "weH7_2ESVq31",
        "outputId": "6e32bfbb-2314-4934-e64e-6bbc60bfc72b"
      },
      "outputs": [
        {
          "name": "stdout",
          "output_type": "stream",
          "text": [
            "\u001b[2K     \u001b[90m━━━━━━━━━━━━━━━━━━━━━━━━━━━━━━━━━━━━━━━━\u001b[0m \u001b[32m423.1/423.1 kB\u001b[0m \u001b[31m5.8 MB/s\u001b[0m eta \u001b[36m0:00:00\u001b[0m\n",
            "\u001b[2K     \u001b[90m━━━━━━━━━━━━━━━━━━━━━━━━━━━━━━━━━━━━━━━━\u001b[0m \u001b[32m75.6/75.6 kB\u001b[0m \u001b[31m5.3 MB/s\u001b[0m eta \u001b[36m0:00:00\u001b[0m\n",
            "\u001b[2K     \u001b[90m━━━━━━━━━━━━━━━━━━━━━━━━━━━━━━━━━━━━━━━━\u001b[0m \u001b[32m145.0/145.0 kB\u001b[0m \u001b[31m1.2 MB/s\u001b[0m eta \u001b[36m0:00:00\u001b[0m\n",
            "\u001b[2K     \u001b[90m━━━━━━━━━━━━━━━━━━━━━━━━━━━━━━━━━━━━━━━━\u001b[0m \u001b[32m2.1/2.1 MB\u001b[0m \u001b[31m21.6 MB/s\u001b[0m eta \u001b[36m0:00:00\u001b[0m\n",
            "\u001b[2K     \u001b[90m━━━━━━━━━━━━━━━━━━━━━━━━━━━━━━━━━━━━━━━━\u001b[0m \u001b[32m2.7/2.7 MB\u001b[0m \u001b[31m40.9 MB/s\u001b[0m eta \u001b[36m0:00:00\u001b[0m\n",
            "\u001b[2K     \u001b[90m━━━━━━━━━━━━━━━━━━━━━━━━━━━━━━━━━━━━━━━━\u001b[0m \u001b[32m77.9/77.9 kB\u001b[0m \u001b[31m5.9 MB/s\u001b[0m eta \u001b[36m0:00:00\u001b[0m\n",
            "\u001b[2K     \u001b[90m━━━━━━━━━━━━━━━━━━━━━━━━━━━━━━━━━━━━━━━━\u001b[0m \u001b[32m58.3/58.3 kB\u001b[0m \u001b[31m5.6 MB/s\u001b[0m eta \u001b[36m0:00:00\u001b[0m\n",
            "\u001b[?25h"
          ]
        }
      ],
      "source": [
        "%pip install -Uq mistralai hypertion pydantic duckduckgo_search"
      ]
    },
    {
      "cell_type": "markdown",
      "metadata": {
        "id": "YB1TQ0DLVq33"
      },
      "source": [
        "Import libraries."
      ]
    },
    {
      "cell_type": "code",
      "execution_count": 2,
      "metadata": {
        "id": "YPnPKGK3Vq33"
      },
      "outputs": [],
      "source": [
        "import os\n",
        "from getpass import getpass\n",
        "\n",
        "from hypertion import HyperFunction\n",
        "from mistralai.client import MistralClient"
      ]
    },
    {
      "cell_type": "markdown",
      "metadata": {
        "id": "b2SeirXrVq33"
      },
      "source": [
        "Set your Mistral API key and create instances of `MistralClient` and `Hyperfunction`"
      ]
    },
    {
      "cell_type": "code",
      "execution_count": 3,
      "metadata": {
        "colab": {
          "base_uri": "https://localhost:8080/"
        },
        "id": "Qd3AxemtVq34",
        "outputId": "22611d81-ec0c-45c2-803e-854e6a6b3282"
      },
      "outputs": [
        {
          "name": "stdout",
          "output_type": "stream",
          "text": [
            "🔑 Enter your Mistral AI API key: ··········\n"
          ]
        }
      ],
      "source": [
        "if not (api_key := os.getenv(\"MISTRAL_API_KEY\")):\n",
        "    api_key = getpass(\"🔑 Enter your Mistral AI API key: \")\n",
        "\n",
        "client = MistralClient(api_key=api_key)\n",
        "hyperfunction = HyperFunction()"
      ]
    },
    {
      "cell_type": "markdown",
      "metadata": {
        "id": "0kzh0RnmVq34"
      },
      "source": [
        "## 2. Define function and register it\n",
        "\n",
        "We're defining a function with parameters types that are nested and of object type to showcase hypertion's ability to create schema."
      ]
    },
    {
      "cell_type": "code",
      "execution_count": 4,
      "metadata": {
        "id": "SV7X-OPUVq34"
      },
      "outputs": [],
      "source": [
        "import pathlib\n",
        "from enum import Enum\n",
        "from typing import Literal, NamedTuple\n",
        "from typing_extensions import TypedDict\n",
        "from pydantic import BaseModel, Field\n",
        "\n",
        "\n",
        "class ServerType(str, Enum):\n",
        "    TESTING = \"testing\"\n",
        "    DEVELOPMENT = \"development\"\n",
        "    PRODUCTION = \"production\"\n",
        "\n",
        "class ServerConfig(BaseModel):\n",
        "    host: str = Field(default=\"localhost\", description=\"The host url of the server.\")\n",
        "    port: int = Field(..., description=\"The port of the server.\")\n",
        "    use_ssl: bool = False\n",
        "\n",
        "class LoggingConfig(TypedDict):\n",
        "    \"\"\"\n",
        "    Logging Configuration\n",
        "    :param level: Level of the logging.\n",
        "    :param format: Logging format.\n",
        "    \"\"\"\n",
        "    level: Literal['debug', 'info', 'warning', 'error', 'critical'] = 'info'\n",
        "    format: str\n",
        "\n",
        "class User(NamedTuple):\n",
        "    \"\"\"\n",
        "    User Info\n",
        "    :param name: Name of the user.\n",
        "    :param role: Role of the user.\n",
        "    \"\"\"\n",
        "    name: str\n",
        "    role: Literal['admin', 'developer', 'tester'] = 'developer'\n",
        "\n",
        "@hyperfunction.takeover\n",
        "def setup_server(\n",
        "    name: str,\n",
        "    server_type: ServerType,\n",
        "    server_config: ServerConfig,\n",
        "    log_config: LoggingConfig,\n",
        "    users: list[User],\n",
        "    persist_at: pathlib.Path,\n",
        ") -> None:\n",
        "    \"\"\"\n",
        "    Setup server with the given configuration.\n",
        "\n",
        "    @param name: The name of the server.\n",
        "    @param server_type: The type of the server.\n",
        "    @param server_config: Configuration for the server.\n",
        "    @param log_config: Logging configuration.\n",
        "    @param users: List of users with their respective roles.\n",
        "    @param persist_at: Path to persist server log.\n",
        "    \"\"\"\n",
        "    print(f\"Setting up server '{name}' of type '{server_type}'...\")\n",
        "    print(f\"Server Configuration: {server_config}\")\n",
        "    print(f\"Logging Configuration: {log_config}\")\n",
        "    print(f\"Users: {users}\")\n",
        "    print(f\"Persist location: {persist_at}\")"
      ]
    },
    {
      "cell_type": "markdown",
      "metadata": {
        "id": "5-e5fQI4Vq35"
      },
      "source": [
        "Display registered functions."
      ]
    },
    {
      "cell_type": "code",
      "execution_count": 5,
      "metadata": {
        "colab": {
          "base_uri": "https://localhost:8080/"
        },
        "id": "L9PnM-y_Vq35",
        "outputId": "c86a5817-cff3-4b7c-8f13-1cd6120a5be6"
      },
      "outputs": [
        {
          "name": "stdout",
          "output_type": "stream",
          "text": [
            "============================================================\n",
            "setup_server(\n",
            "   name: str,\n",
            "   server_type: ServerType,\n",
            "   server_config: ServerConfig,\n",
            "   log_config: LoggingConfig,\n",
            "   users: list[User],\n",
            "   persist_at: Path\n",
            ") -> None:\n",
            "\"\"\"Setup server with the given configuration.\"\"\"\n",
            "============================================================\n"
          ]
        }
      ],
      "source": [
        "hyperfunction.registry()"
      ]
    },
    {
      "cell_type": "markdown",
      "metadata": {
        "id": "K7m8gHsUVq36"
      },
      "source": [
        "## 3. Construct `Mistral` specific function schema"
      ]
    },
    {
      "cell_type": "code",
      "execution_count": 6,
      "metadata": {
        "colab": {
          "base_uri": "https://localhost:8080/"
        },
        "id": "Pgr4C1IJVq36",
        "outputId": "3de4150d-a562-46f5-e2da-83177a8dee2e"
      },
      "outputs": [
        {
          "name": "stdout",
          "output_type": "stream",
          "text": [
            "[\n",
            "    {\n",
            "        \"type\": \"function\",\n",
            "        \"function\": {\n",
            "            \"name\": \"setup_server\",\n",
            "            \"description\": \"Setup server with the given configuration.\",\n",
            "            \"parameters\": {\n",
            "                \"type\": \"object\",\n",
            "                \"properties\": {\n",
            "                    \"name\": {\n",
            "                        \"type\": \"string\",\n",
            "                        \"description\": \"The name of the server.\"\n",
            "                    },\n",
            "                    \"server_type\": {\n",
            "                        \"type\": \"string\",\n",
            "                        \"enum\": [\n",
            "                            \"TESTING\",\n",
            "                            \"DEVELOPMENT\",\n",
            "                            \"PRODUCTION\"\n",
            "                        ],\n",
            "                        \"description\": \"The type of the server.\"\n",
            "                    },\n",
            "                    \"server_config\": {\n",
            "                        \"type\": \"object\",\n",
            "                        \"properties\": {\n",
            "                            \"host\": {\n",
            "                                \"type\": \"string\",\n",
            "                                \"description\": \"The host url of the server.\"\n",
            "                            },\n",
            "                            \"port\": {\n",
            "                                \"type\": \"integer\",\n",
            "                                \"description\": \"The port of the server.\"\n",
            "                            },\n",
            "                            \"use_ssl\": {\n",
            "                                \"type\": \"boolean\"\n",
            "                            }\n",
            "                        },\n",
            "                        \"required\": [\n",
            "                            \"port\"\n",
            "                        ],\n",
            "                        \"description\": \"Configuration for the server.\"\n",
            "                    },\n",
            "                    \"log_config\": {\n",
            "                        \"type\": \"object\",\n",
            "                        \"properties\": {\n",
            "                            \"level\": {\n",
            "                                \"type\": \"string\",\n",
            "                                \"enum\": [\n",
            "                                    \"debug\",\n",
            "                                    \"info\",\n",
            "                                    \"warning\",\n",
            "                                    \"error\",\n",
            "                                    \"critical\"\n",
            "                                ],\n",
            "                                \"description\": \"Level of the logging.\"\n",
            "                            },\n",
            "                            \"format\": {\n",
            "                                \"type\": \"string\",\n",
            "                                \"description\": \"Logging format.\"\n",
            "                            }\n",
            "                        },\n",
            "                        \"required\": [\n",
            "                            \"format\"\n",
            "                        ],\n",
            "                        \"description\": \"Logging configuration.\"\n",
            "                    },\n",
            "                    \"users\": {\n",
            "                        \"type\": \"array\",\n",
            "                        \"items\": {\n",
            "                            \"type\": \"object\",\n",
            "                            \"properties\": {\n",
            "                                \"name\": {\n",
            "                                    \"type\": \"string\",\n",
            "                                    \"description\": \"Name of the user.\"\n",
            "                                },\n",
            "                                \"role\": {\n",
            "                                    \"type\": \"string\",\n",
            "                                    \"enum\": [\n",
            "                                        \"admin\",\n",
            "                                        \"developer\",\n",
            "                                        \"tester\"\n",
            "                                    ],\n",
            "                                    \"description\": \"Role of the user.\"\n",
            "                                }\n",
            "                            },\n",
            "                            \"required\": [\n",
            "                                \"name\",\n",
            "                                \"role\"\n",
            "                            ]\n",
            "                        },\n",
            "                        \"description\": \"List of users with their respective roles.\"\n",
            "                    },\n",
            "                    \"persist_at\": {\n",
            "                        \"type\": \"string\",\n",
            "                        \"description\": \"Path to persist server log.\"\n",
            "                    }\n",
            "                },\n",
            "                \"required\": [\n",
            "                    \"name\",\n",
            "                    \"server_type\",\n",
            "                    \"server_config\",\n",
            "                    \"log_config\",\n",
            "                    \"users\",\n",
            "                    \"persist_at\"\n",
            "                ]\n",
            "            }\n",
            "        }\n",
            "    }\n",
            "]\n"
          ]
        }
      ],
      "source": [
        "print(hyperfunction.format('mistral', as_json=True))"
      ]
    },
    {
      "cell_type": "markdown",
      "metadata": {
        "id": "VUU3MpoDVq36"
      },
      "source": [
        "## 4. Request `Mistral` metadata and compose function-call"
      ]
    },
    {
      "cell_type": "code",
      "execution_count": 7,
      "metadata": {
        "id": "674i7q0IVq36"
      },
      "outputs": [],
      "source": [
        "from mistralai.models.chat_completion import ChatMessage, ToolChoice\n",
        "\n",
        "def request_mistral_metadata(query: str, functions: list[dict]) -> tuple[str, str]:\n",
        "    tool_call = client.chat(\n",
        "        model=\"mistral-large-latest\",\n",
        "        messages=[ChatMessage(role='user', content=query)],\n",
        "        tools=functions,\n",
        "        tool_choice=ToolChoice.any\n",
        "    ).choices[0].message.tool_calls[0].function\n",
        "    return tool_call.name, tool_call.arguments # We don't have to manually convert it to dictionary object, hyperfunction supports both json and dictionary object."
      ]
    },
    {
      "cell_type": "code",
      "execution_count": 8,
      "metadata": {
        "colab": {
          "base_uri": "https://localhost:8080/"
        },
        "id": "_2iJCsrHVq36",
        "outputId": "a18cfc7e-20d8-4d6b-9883-6d1f0a81a5c5"
      },
      "outputs": [
        {
          "name": "stdout",
          "output_type": "stream",
          "text": [
            "Function: setup_server\n",
            "Raw Arguments: {\"name\": \"my_server\", \"server_type\": \"DEVELOPMENT\", \"server_config\": {\"port\": 8001, \"use_ssl\": true}, \"log_config\": {\"format\": \"%(asctime)s - %(name)s - %(levelname)s - %(message)s\"}, \"users\": [{\"name\": \"sophia\", \"role\": \"admin\"}, {\"name\": \"synacktra\", \"role\": \"developer\"}, {\"name\": \"1littlecoder\", \"role\": \"tester\"}], \"persist_at\": \"/var/logs\"}\n"
          ]
        }
      ],
      "source": [
        "name, arguments = request_mistral_metadata(query=\"\"\"\\\n",
        "Setup a server of type development on port number 8001 with ssl enabled.\n",
        "Logging format should be \"%(asctime)s - %(name)s - %(levelname)s - %(message)s\".\n",
        "Add user sophia as admin, synacktra as developer and 1littlecoder as tester.\n",
        "The server logs should be persisted at /var/logs.\\\n",
        "\"\"\", functions=hyperfunction.format('mistral'))\n",
        "print(f\"Function: {name}\\nRaw Arguments: {arguments}\")"
      ]
    },
    {
      "cell_type": "markdown",
      "metadata": {
        "id": "9drV9chxVq37"
      },
      "source": [
        "Compose the function to get function-call object."
      ]
    },
    {
      "cell_type": "code",
      "execution_count": 9,
      "metadata": {
        "colab": {
          "base_uri": "https://localhost:8080/"
        },
        "id": "NNh4_pSgVq37",
        "outputId": "a9b54479-cfb2-4e91-87f9-a0c0644844ec"
      },
      "outputs": [
        {
          "data": {
            "text/plain": [
              "setup_server(\n",
              "   name='my_server',\n",
              "   server_type=<ServerType.DEVELOPMENT: 'development'>,\n",
              "   server_config=ServerConfig(host='localhost', port=8001, use_ssl=True),\n",
              "   log_config={'level': 'info', 'format': '%(asctime)s - %(name)s - %(levelname)s - %(message)s'},\n",
              "   users=[('sophia', 'admin'), ('synacktra', 'developer'), ('1littlecoder', 'tester')],\n",
              "   persist_at=PosixPath('/var/logs')\n",
              ")"
            ]
          },
          "execution_count": 9,
          "metadata": {},
          "output_type": "execute_result"
        }
      ],
      "source": [
        "function_call = hyperfunction.compose(name=name, arguments=arguments)\n",
        "function_call"
      ]
    },
    {
      "cell_type": "markdown",
      "metadata": {
        "id": "komqYJq1Vq37"
      },
      "source": [
        "> Hyperfunction performs parameter validation, type conversion, and applies default values for function parameters not available in LLM generated arguments.\n",
        "\n",
        "Inspect the parameters."
      ]
    },
    {
      "cell_type": "code",
      "execution_count": 10,
      "metadata": {
        "colab": {
          "base_uri": "https://localhost:8080/"
        },
        "id": "LVJu0i27Vq37",
        "outputId": "01bcfedd-2c5d-4b8c-f1e9-be4306a8c032"
      },
      "outputs": [
        {
          "data": {
            "text/plain": [
              "{'name': 'my_server',\n",
              " 'server_type': <ServerType.DEVELOPMENT: 'development'>,\n",
              " 'server_config': ServerConfig(host='localhost', port=8001, use_ssl=True),\n",
              " 'log_config': {'level': 'info',\n",
              "  'format': '%(asctime)s - %(name)s - %(levelname)s - %(message)s'},\n",
              " 'users': [('sophia', 'admin'),\n",
              "  ('synacktra', 'developer'),\n",
              "  ('1littlecoder', 'tester')],\n",
              " 'persist_at': PosixPath('/var/logs')}"
            ]
          },
          "execution_count": 10,
          "metadata": {},
          "output_type": "execute_result"
        }
      ],
      "source": [
        "function_call.arguments"
      ]
    },
    {
      "cell_type": "markdown",
      "metadata": {
        "id": "EUYnDFvHVq37"
      },
      "source": [
        "Invoke the function."
      ]
    },
    {
      "cell_type": "code",
      "execution_count": 11,
      "metadata": {
        "colab": {
          "base_uri": "https://localhost:8080/"
        },
        "id": "vb5Ac6-YVq37",
        "outputId": "c35aa7a4-e334-464a-c39d-b1010f256de7"
      },
      "outputs": [
        {
          "name": "stdout",
          "output_type": "stream",
          "text": [
            "Setting up server 'my_server' of type 'development'...\n",
            "Server Configuration: host='localhost' port=8001 use_ssl=True\n",
            "Logging Configuration: {'level': 'info', 'format': '%(asctime)s - %(name)s - %(levelname)s - %(message)s'}\n",
            "Users: [('sophia', 'admin'), ('synacktra', 'developer'), ('1littlecoder', 'tester')]\n",
            "Persist location: /var/logs\n"
          ]
        }
      ],
      "source": [
        "function_call()"
      ]
    },
    {
      "cell_type": "markdown",
      "metadata": {
        "id": "kKNxabFaVq37"
      },
      "source": [
        "---\n",
        "\n",
        "## Create a new `HyperFunction` instance for search task\n",
        "\n",
        "Here we are creating a new instance for storing search related functions, using instances we can manage distinct set of tools."
      ]
    },
    {
      "cell_type": "code",
      "execution_count": 16,
      "metadata": {
        "id": "nYiP-0dgVq37"
      },
      "outputs": [],
      "source": [
        "from duckduckgo_search import DDGS\n",
        "\n",
        "ddgs = DDGS()\n",
        "search_task = HyperFunction()\n",
        "\n",
        "@search_task.takeover\n",
        "def search_text(\n",
        "  text: str,\n",
        "  *, # Yes it supports positional and keyword arguments\n",
        "  safe_search: bool = True,\n",
        "  backend: Literal['api', 'html', 'lite'] = 'api',\n",
        "  max_results: int = 1\n",
        "):\n",
        "    \"\"\"\n",
        "    Search for text in the web.\n",
        "    :param text: Text to search for.\n",
        "    :param safe_search: If True, enable safe search.\n",
        "    :param backend: Backend to use for retrieving results.\n",
        "    :param max_results: Max results to return.\n",
        "    \"\"\"\n",
        "    return ddgs.text(\n",
        "        keywords=text,\n",
        "        safesearch=\"on\" if safe_search else \"off\",\n",
        "        backend=backend,\n",
        "        max_results=max_results\n",
        "    )\n",
        "\n",
        "@search_task.takeover\n",
        "def search_image(\n",
        "  query: str,\n",
        "  *,\n",
        "  size: Literal['Small', 'Medium', 'Large', 'Wallpaper'] = 'Small',\n",
        "  layout: Literal['Square', 'Tall', 'Wide'] = 'Square',\n",
        "  safe_search: bool = True,\n",
        "  max_results: int = 1\n",
        "):\n",
        "    \"\"\"\n",
        "    Search for images in the web.\n",
        "    :param query: Query to search for.\n",
        "    :param safe_search: If True, enable safe search.\n",
        "    :param max_results: Max results to return.\n",
        "    \"\"\"\n",
        "    return ddgs.images(\n",
        "        keywords=query,\n",
        "        size=size,\n",
        "        layout=layout,\n",
        "        safesearch=\"on\" if safe_search else \"off\",\n",
        "        max_results=max_results\n",
        "    )\n",
        "\n",
        "@search_task.takeover\n",
        "def translate(\n",
        "    text: str,\n",
        "    to: Literal['en', 'ja', 'hi', 'es', 'fr', 'de', 'zh'] = 'en'\n",
        "):\n",
        "    \"\"\"\n",
        "    Translate the given text.\n",
        "    :param text: Text to translate.\n",
        "    :param to: what language to translate.\n",
        "    \"\"\"\n",
        "    return ddgs.translate(keywords=text, to=to)\n"
      ]
    },
    {
      "cell_type": "markdown",
      "metadata": {
        "id": "0MTk7s0kVq38"
      },
      "source": [
        "Store function schemas in a variable."
      ]
    },
    {
      "cell_type": "code",
      "execution_count": 17,
      "metadata": {
        "id": "QhphQCLBVq38"
      },
      "outputs": [],
      "source": [
        "search_function_schemas = search_task.format('mistral')"
      ]
    },
    {
      "cell_type": "markdown",
      "metadata": {
        "id": "C4uojHsJVq38"
      },
      "source": [
        "#### Searching for text."
      ]
    },
    {
      "cell_type": "code",
      "execution_count": 18,
      "metadata": {
        "colab": {
          "base_uri": "https://localhost:8080/"
        },
        "id": "R6cxPfK-Vq38",
        "outputId": "d5ae3bd5-a6ab-452e-b5cd-822827eee557"
      },
      "outputs": [
        {
          "data": {
            "text/plain": [
              "('search_text', '{\"text\": \"Mistral Function Calling\", \"max_results\": 3}')"
            ]
          },
          "execution_count": 18,
          "metadata": {},
          "output_type": "execute_result"
        }
      ],
      "source": [
        "name, arguments = request_mistral_metadata(\n",
        "    query=\"What is Mistral Function Calling?\", functions=search_function_schemas\n",
        ")\n",
        "name, arguments"
      ]
    },
    {
      "cell_type": "markdown",
      "metadata": {
        "id": "aK4ZNrNNVq38"
      },
      "source": [
        "Compose function call object."
      ]
    },
    {
      "cell_type": "code",
      "execution_count": 19,
      "metadata": {
        "colab": {
          "base_uri": "https://localhost:8080/"
        },
        "id": "7Dl9oXeyVq38",
        "outputId": "df67ea67-9970-4d3c-8555-7c9eb507fe2f"
      },
      "outputs": [
        {
          "data": {
            "text/plain": [
              "search_text(\n",
              "   text='Mistral Function Calling',\n",
              "   safe_search=True,\n",
              "   backend='api',\n",
              "   max_results=3\n",
              ")"
            ]
          },
          "execution_count": 19,
          "metadata": {},
          "output_type": "execute_result"
        }
      ],
      "source": [
        "search_text_call = search_task.compose(name=name, arguments=arguments)\n",
        "search_text_call"
      ]
    },
    {
      "cell_type": "code",
      "execution_count": 20,
      "metadata": {
        "colab": {
          "base_uri": "https://localhost:8080/"
        },
        "id": "mMwX0OZ6Vq38",
        "outputId": "3a2f80a2-4df2-4d63-eadc-97c8cc24eb72"
      },
      "outputs": [
        {
          "data": {
            "text/plain": [
              "[{'title': 'Function calling | Mistral AI Large Language Models',\n",
              "  'href': 'https://docs.mistral.ai/capabilities/function_calling/',\n",
              "  'body': 'Function calling allows Mistral models to connect to external tools. By integrating Mistral models with external tools such as user defined functions or APIs, users can easily build applications catering to specific use cases and practical problems. In this guide, for instance, we wrote two functions for tracking payment status and payment date.'},\n",
              " {'title': 'Mistral AI Function Calling — A Simple Example with Code',\n",
              "  'href': 'https://medium.com/@jcrsch/mistral-ai-function-calling-a-simple-example-with-code-72f3a762550f',\n",
              "  'body': 'Learn how to use the function calling API of Mistral AI, a platform for creating assistants capable of actions (LAM), with a home automation use case. See the code, the functions, and the natural language description of the functions and their parameters.'},\n",
              " {'title': 'Advanced Function Calling with Mistral-7B - YouTube',\n",
              "  'href': 'https://www.youtube.com/watch?v=CzCcYlH_6_I',\n",
              "  'body': 'Testing Multi and Nested Function Calls with Mistral 7bIn this video, I explore the advanced function calling capabilities of the Mistral 7b v3 model, includ...'}]"
            ]
          },
          "execution_count": 20,
          "metadata": {},
          "output_type": "execute_result"
        }
      ],
      "source": [
        "search_text_call()"
      ]
    },
    {
      "cell_type": "markdown",
      "metadata": {
        "id": "PhUeEuANVq38"
      },
      "source": [
        "#### Searching for images."
      ]
    },
    {
      "cell_type": "code",
      "execution_count": 21,
      "metadata": {
        "colab": {
          "base_uri": "https://localhost:8080/"
        },
        "id": "Uv3_s5esVq39",
        "outputId": "e68b7e5a-e8b5-4d9e-b99d-c98dfc2f3c1c"
      },
      "outputs": [
        {
          "data": {
            "text/plain": [
              "('search_image',\n",
              " '{\"query\": \"Transformers architecture\", \"size\": \"Medium\", \"max_results\": 10}')"
            ]
          },
          "execution_count": 21,
          "metadata": {},
          "output_type": "execute_result"
        }
      ],
      "source": [
        "name, arguments = request_mistral_metadata(\n",
        "    query=\"Get me medium size images of Transformers architecture\",\n",
        "    functions=search_function_schemas\n",
        ")\n",
        "name, arguments"
      ]
    },
    {
      "cell_type": "code",
      "execution_count": 22,
      "metadata": {
        "colab": {
          "base_uri": "https://localhost:8080/"
        },
        "id": "10MRB81FVq39",
        "outputId": "ba3ee10b-89ac-497c-bbbf-137916b7737b"
      },
      "outputs": [
        {
          "data": {
            "text/plain": [
              "search_image(\n",
              "   query='Transformers architecture',\n",
              "   size='Medium',\n",
              "   layout='Square',\n",
              "   safe_search=True,\n",
              "   max_results=10\n",
              ")"
            ]
          },
          "execution_count": 22,
          "metadata": {},
          "output_type": "execute_result"
        }
      ],
      "source": [
        "search_image_call = search_task.compose(name=name, arguments=arguments)\n",
        "search_image_call"
      ]
    },
    {
      "cell_type": "code",
      "execution_count": 23,
      "metadata": {
        "colab": {
          "base_uri": "https://localhost:8080/"
        },
        "id": "_Xbo9U9wVq3-",
        "outputId": "9944aca6-3b4c-4799-d626-0f0593538f5f"
      },
      "outputs": [
        {
          "data": {
            "text/plain": [
              "[{'title': 'Understading Matrix Operations In Transformers',\n",
              "  'image': 'https://mchromiak.github.io/articles/2017/Sep/12/Transformer-Attention-is-all-you-need/img/encoder.png',\n",
              "  'thumbnail': 'https://tse4.mm.bing.net/th?id=OIP.Dtz4GnZ1uYNMIxRC5mKScgAAAA&pid=Api',\n",
              "  'url': 'https://santhoshkolloju.github.io/transformers/',\n",
              "  'height': 421,\n",
              "  'width': 474,\n",
              "  'source': 'Bing'},\n",
              " {'title': 'What is a Transformer Model? | Definition from TechTarget',\n",
              "  'image': 'https://cdn.ttgtmedia.com/rms/onlineimages/transformer_model_architecture-f_mobile.png',\n",
              "  'thumbnail': 'https://tse1.mm.bing.net/th?id=OIP.Wz_LKIcZudhsfzHcH6aJLAAAAA&pid=Api',\n",
              "  'url': 'https://www.techtarget.com/searchenterpriseai/definition/transformer-model',\n",
              "  'height': 468,\n",
              "  'width': 474,\n",
              "  'source': 'Bing'},\n",
              " {'title': 'The Architecture of the Transformers. | Download Scientific Diagram',\n",
              "  'image': 'https://www.researchgate.net/publication/355846101/figure/fig5/AS:1085678683197443@1635857377407/The-Architecture-of-the-Transformers.ppm',\n",
              "  'thumbnail': 'https://tse3.mm.bing.net/th?id=OIP.n3dM8VIxnrNUQYl6QUO-mQAAAA&pid=Api',\n",
              "  'url': 'https://www.researchgate.net/figure/The-Architecture-of-the-Transformers_fig5_355846101',\n",
              "  'height': 476,\n",
              "  'width': 391,\n",
              "  'source': 'Bing'},\n",
              " {'title': 'Transformer (Maschinelles Lernen) - Wikipedia',\n",
              "  'image': 'https://upload.wikimedia.org/wikipedia/commons/thumb/8/8f/The-Transformer-model-architecture.png/600px-The-Transformer-model-architecture.png',\n",
              "  'thumbnail': 'https://tse2.mm.bing.net/th?id=OIP.IZjWlNTaru49I8_CZ70XygAAAA&pid=Api',\n",
              "  'url': 'https://de.wikipedia.org/wiki/Transformer_(Maschinelles_Lernen)',\n",
              "  'height': 426,\n",
              "  'width': 474,\n",
              "  'source': 'Bing'},\n",
              " {'title': 'Transformer architecture with its encoder (left) and decoder (right ...',\n",
              "  'image': 'https://www.researchgate.net/publication/366569196/figure/fig1/AS:11431281109355577@1671901937467/Transformer-architecture-with-its-encoder-left-and-decoder-right-Vaswani-et-al_Q320.jpg',\n",
              "  'thumbnail': 'https://tse1.mm.bing.net/th?id=OIP.Nr2SZzJdeO3jn93o22rMaAAAAA&pid=Api',\n",
              "  'url': 'https://www.researchgate.net/figure/Transformer-architecture-with-its-encoder-left-and-decoder-right-Vaswani-et-al_fig1_366569196',\n",
              "  'height': 320,\n",
              "  'width': 320,\n",
              "  'source': 'Bing'},\n",
              " {'title': 'Transformer Model Architecture. Transformer Architecture [26] is ...',\n",
              "  'image': 'https://www.researchgate.net/publication/342045332/figure/fig2/AS:900500283215874@1591707406300/Transformer-Model-Architecture-Transformer-Architecture-26-is-parallelized-for-seq2seq_Q320.jpg',\n",
              "  'thumbnail': 'https://tse2.mm.bing.net/th?id=OIP.kgR6ODKO7ifmhgz1Gh0vqAAAAA&pid=Api',\n",
              "  'url': 'https://www.researchgate.net/figure/Transformer-Model-Architecture-Transformer-Architecture-26-is-parallelized-for-seq2seq_fig2_342045332',\n",
              "  'height': 320,\n",
              "  'width': 320,\n",
              "  'source': 'Bing'},\n",
              " {'title': 'Transformer architecture (figure sourced from original paper [26 ...',\n",
              "  'image': 'https://www.researchgate.net/publication/344310523/figure/fig1/AS:11431281098991710@1669171990308/Transformer-architecture-figure-sourced-from-original-paper-26_Q320.jpg',\n",
              "  'thumbnail': 'https://tse2.mm.bing.net/th?id=OIP.MmSSmEKgevbo3Ifr37aG2QAAAA&pid=Api',\n",
              "  'url': 'https://www.researchgate.net/figure/Transformer-architecture-figure-sourced-from-original-paper-26_fig1_344310523',\n",
              "  'height': 320,\n",
              "  'width': 320,\n",
              "  'source': 'Bing'},\n",
              " {'title': 'Introduction to Transformers Architecture',\n",
              "  'image': 'https://rubikscode.net/wp-content/uploads/2019/07/image-17.png',\n",
              "  'thumbnail': 'https://tse2.mm.bing.net/th?id=OIP.KxTD31STXNuAkISNQ9nOrwAAAA&pid=Api',\n",
              "  'url': 'https://rubikscode.net/2019/07/29/introduction-to-transformers-architecture/',\n",
              "  'height': 409,\n",
              "  'width': 441,\n",
              "  'source': 'Bing'},\n",
              " {'title': 'Illustration of the transformer architecture and parameter-efficient ...',\n",
              "  'image': 'https://www.researchgate.net/publication/364550233/figure/fig1/AS:11431281091192952@1666330894089/Illustration-of-the-transformer-architecture-and-parameter-efficient-tuning-methods-The_Q320.jpg',\n",
              "  'thumbnail': 'https://tse2.mm.bing.net/th?id=OIP.5U4_uF262Rz8XVlquKBZWgAAAA&pid=Api',\n",
              "  'url': 'https://www.researchgate.net/figure/Illustration-of-the-transformer-architecture-and-parameter-efficient-tuning-methods-The_fig1_364550233',\n",
              "  'height': 320,\n",
              "  'width': 320,\n",
              "  'source': 'Bing'},\n",
              " {'title': 'A schematic diagram of the Transformer architecture. Redrawn from ref ...',\n",
              "  'image': 'https://www.researchgate.net/publication/339651598/figure/fig1/AS:1035454786838528@1623883067123/A-schematic-diagram-of-the-Transformer-architecture-Redrawn-from-ref-33_Q320.jpg',\n",
              "  'thumbnail': 'https://tse4.mm.bing.net/th?id=OIP.DTZQV7WJMJirI4qu0giuOQAAAA&pid=Api',\n",
              "  'url': 'https://www.researchgate.net/figure/A-schematic-diagram-of-the-Transformer-architecture-Redrawn-from-ref-33_fig1_339651598',\n",
              "  'height': 320,\n",
              "  'width': 320,\n",
              "  'source': 'Bing'}]"
            ]
          },
          "execution_count": 23,
          "metadata": {},
          "output_type": "execute_result"
        }
      ],
      "source": [
        "search_image_call()"
      ]
    },
    {
      "cell_type": "markdown",
      "metadata": {
        "id": "u7RJpFbzVq3-"
      },
      "source": [
        "#### Searching for translation."
      ]
    },
    {
      "cell_type": "code",
      "execution_count": 24,
      "metadata": {
        "colab": {
          "base_uri": "https://localhost:8080/"
        },
        "id": "tUd2eMGkVq3-",
        "outputId": "b29beadf-69ff-4fff-dfa9-0f64f95b4a9e"
      },
      "outputs": [
        {
          "data": {
            "text/plain": [
              "('translate', '{\"text\": \"Attention is all you need\", \"to\": \"hi\"}')"
            ]
          },
          "execution_count": 24,
          "metadata": {},
          "output_type": "execute_result"
        }
      ],
      "source": [
        "name, arguments = request_mistral_metadata(\n",
        "    query=\"Translate 'Attention is all you need' to Hindi.\",\n",
        "    functions=search_function_schemas\n",
        ")\n",
        "name, arguments"
      ]
    },
    {
      "cell_type": "code",
      "execution_count": 25,
      "metadata": {
        "colab": {
          "base_uri": "https://localhost:8080/"
        },
        "id": "3t9T7UroVq3-",
        "outputId": "8bd621fa-ea78-438c-b87c-6c4a6b828976"
      },
      "outputs": [
        {
          "data": {
            "text/plain": [
              "translate(\n",
              "   text='Attention is all you need',\n",
              "   to='hi'\n",
              ")"
            ]
          },
          "execution_count": 25,
          "metadata": {},
          "output_type": "execute_result"
        }
      ],
      "source": [
        "translate_call = search_task.compose(name=name, arguments=arguments)\n",
        "translate_call"
      ]
    },
    {
      "cell_type": "code",
      "execution_count": 26,
      "metadata": {
        "colab": {
          "base_uri": "https://localhost:8080/"
        },
        "id": "HRB9ygoXVq3-",
        "outputId": "1b7adedf-f83e-4873-ac60-9e982b0249d0"
      },
      "outputs": [
        {
          "data": {
            "text/plain": [
              "[{'detected_language': 'en',\n",
              "  'translated': 'ध्यान आप सभी की जरूरत है',\n",
              "  'original': 'Attention is all you need'}]"
            ]
          },
          "execution_count": 26,
          "metadata": {},
          "output_type": "execute_result"
        }
      ],
      "source": [
        "translate_call()"
      ]
    },
    {
      "cell_type": "markdown",
      "metadata": {
        "id": "RQoVPbJ8Vq4C"
      },
      "source": [
        "## Combine `HyperFunction` instances\n",
        "\n",
        "> Note: A single instance can hold multiple functions. Creating a new instance is beneficial only if you need a distinct set of functions. This approach is especially effective when deploying Agent(s) to utilize functions designed for particular tasks."
      ]
    },
    {
      "cell_type": "code",
      "execution_count": 27,
      "metadata": {
        "colab": {
          "base_uri": "https://localhost:8080/"
        },
        "id": "RBmcZLwYVq4D",
        "outputId": "c3bbf31b-4045-4d53-c53e-76da4b91cb12"
      },
      "outputs": [
        {
          "name": "stdout",
          "output_type": "stream",
          "text": [
            "============================================================\n",
            "setup_server(\n",
            "   name: str,\n",
            "   server_type: ServerType,\n",
            "   server_config: ServerConfig,\n",
            "   log_config: LoggingConfig,\n",
            "   users: list[User],\n",
            "   persist_at: Path\n",
            ") -> None:\n",
            "\"\"\"Setup server with the given configuration.\"\"\"\n",
            "============================================================\n",
            "search_text(\n",
            "   text: str,\n",
            "   *,\n",
            "   safe_search: bool = True,\n",
            "   backend: Literal['api',\n",
            "   'html',\n",
            "   'lite'] = 'api',\n",
            "   max_results: int = 1\n",
            "):\n",
            "\"\"\"Search for text in the web.\"\"\"\n",
            "============================================================\n",
            "search_image(\n",
            "   query: str,\n",
            "   *,\n",
            "   size: Literal['Small',\n",
            "   'Medium',\n",
            "   'Large',\n",
            "   'Wallpaper'] = 'Small',\n",
            "   layout: Literal['Square',\n",
            "   'Tall',\n",
            "   'Wide'] = 'Square',\n",
            "   safe_search: bool = True,\n",
            "   max_results: int = 1\n",
            "):\n",
            "\"\"\"Search for images in the web.\"\"\"\n",
            "============================================================\n",
            "translate(\n",
            "   text: str,\n",
            "   to: Literal['en',\n",
            "   'ja',\n",
            "   'hi',\n",
            "   'es',\n",
            "   'fr',\n",
            "   'de',\n",
            "   'zh'] = 'en'\n",
            "):\n",
            "\"\"\"Translate the given text.\"\"\"\n",
            "============================================================\n"
          ]
        }
      ],
      "source": [
        "new_instance = hyperfunction + search_task\n",
        "new_instance.registry()"
      ]
    },
    {
      "cell_type": "code",
      "execution_count": null,
      "metadata": {
        "id": "dCYKXEHmVq4D"
      },
      "outputs": [],
      "source": [
        "print(new_instance.format(\"mistral\", as_json=True))"
      ]
    },
    {
      "cell_type": "markdown",
      "metadata": {
        "id": "7WuufzhnVq4D"
      },
      "source": [
        "**This approach offers significant advantages in automating schema creation, which can reduce the time and complexity typically associated with manual setup. The `takeover` method allows for efficient management of multiple functions within a `HyperFunction` instance, which is particularly beneficial when deploying `Agents`. This automation streamlines the development process and enhances precision in handling task-specific functions, potentially improving the effectiveness of `agent-driven` scenarios.**"
      ]
    }
  ],
  "metadata": {
    "colab": {
      "provenance": [],
      "toc_visible": true
    },
    "kernelspec": {
      "display_name": "Python 3",
      "language": "python",
      "name": "python3"
    },
    "language_info": {
      "codemirror_mode": {
        "name": "ipython",
        "version": 3
      },
      "file_extension": ".py",
      "mimetype": "text/x-python",
      "name": "python",
      "nbconvert_exporter": "python",
      "pygments_lexer": "ipython3",
      "version": "3.10.11"
    }
  },
  "nbformat": 4,
  "nbformat_minor": 0
}
